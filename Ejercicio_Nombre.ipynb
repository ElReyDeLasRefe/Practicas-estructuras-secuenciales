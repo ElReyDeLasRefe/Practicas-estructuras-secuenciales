{
  "nbformat": 4,
  "nbformat_minor": 0,
  "metadata": {
    "colab": {
      "provenance": [],
      "authorship_tag": "ABX9TyPnT9h3DtUDXc4YwexXnjGy",
      "include_colab_link": true
    },
    "kernelspec": {
      "name": "python3",
      "display_name": "Python 3"
    },
    "language_info": {
      "name": "python"
    }
  },
  "cells": [
    {
      "cell_type": "markdown",
      "metadata": {
        "id": "view-in-github",
        "colab_type": "text"
      },
      "source": [
        "<a href=\"https://colab.research.google.com/github/ElReyDeLasRefe/Practicas-estructuras-secuenciales/blob/main/Ejercicio_Nombre.ipynb\" target=\"_parent\"><img src=\"https://colab.research.google.com/assets/colab-badge.svg\" alt=\"Open In Colab\"/></a>"
      ]
    },
    {
      "cell_type": "code",
      "execution_count": null,
      "metadata": {
        "id": "uQKYyrBmUgVZ"
      },
      "outputs": [],
      "source": []
    },
    {
      "cell_type": "markdown",
      "source": [
        "## Información Personal\n",
        "Diseña un programa que muestre la siguiente información:\n",
        "• Tu nombre\n",
        "• Tu dirección, con ciudad, estado y código postal\n",
        "• Tu número de teléfono\n",
        "• Tu especialización universitaria\n",
        "\n",
        "## Pseudocodigo"
      ],
      "metadata": {
        "id": "Ihj-V-zHU7I9"
      }
    },
    {
      "cell_type": "markdown",
      "source": [
        "### Intro\n",
        "\n",
        "Display \"Hola, vamos a mostrarte tu edad\"\n"
      ],
      "metadata": {
        "id": "O-zgu5jIVpDk"
      }
    },
    {
      "cell_type": "code",
      "source": [
        "##Programa para decir la hora\n",
        "A = input('Porfavor regalanos tu nombre:')\n",
        "print(A)\n",
        "\n",
        "B = input('Porfavor regalanos tu direccion:')\n",
        "print(B)\n",
        "\n",
        "C = input('Porfavor regalanos tu ciudad:')\n",
        "print(C)\n",
        "\n",
        "D = input('Porfavor regalanos tu estado:')\n",
        "print(D)\n",
        "\n",
        "E = input('Porfavor regalanos tu zipcode:')\n",
        "print(E)\n",
        "\n",
        "F = input('Porfavor regalanos tu numero de phone:')\n",
        "print(F)\n",
        "\n",
        "G = input('Porfavor regalanos tu carrera universitaria:')\n",
        "print(G)\n",
        "\n",
        "print(\"A continuacion, vamos a resumir tu informacion de manera ordenada\")\n",
        "print(A, B, C, D, E, F, G, sep=\"\\n\")"
      ],
      "metadata": {
        "colab": {
          "base_uri": "https://localhost:8080/"
        },
        "collapsed": true,
        "id": "ZpWMmufrX0Sf",
        "outputId": "5a92f9d5-b2e1-49b7-d3bc-797ac2c77182"
      },
      "execution_count": 12,
      "outputs": [
        {
          "output_type": "stream",
          "name": "stdout",
          "text": [
            "Porfavor regalanos tu nombre:No se\n",
            "No se\n",
            "Porfavor regalanos tu direccion:No se\n",
            "No se\n",
            "Porfavor regalanos tu ciudad:MMM Moridero\n",
            "MMM Moridero\n",
            "Porfavor regalanos tu estado:Viudo\n",
            "Viudo\n",
            "Porfavor regalanos tu zipcode:No me lo se\n",
            "No me lo se\n",
            "Porfavor regalanos tu numero de phone:3504568549\n",
            "3504568549\n",
            "Porfavor regalanos tu carrera universitaria:Ingenieria en vagancia\n",
            "Ingenieria en vagancia\n",
            "A continuacion, vamos a resumir tu informacion de manera ordenada\n",
            "No se\n",
            "No se\n",
            "MMM Moridero\n",
            "Viudo\n",
            "No me lo se\n",
            "3504568549\n",
            "Ingenieria en vagancia\n"
          ]
        }
      ]
    },
    {
      "cell_type": "markdown",
      "source": [
        "    Program personal_info\n",
        "    Start\n",
        "    Declare String name, address, city, state, zip, phone, career\n",
        "\n",
        "    Display \"Ingrese tu nombre\"\n",
        "    input nombre\n",
        "    Display \"Ingrese tu direccion\"\n",
        "    input direccion\n",
        "    Display \"Ingrese tu ciudad\"\n",
        "    input ciudad\n",
        "    Display \"Ingrese tu estado\"\n",
        "    input estado\n",
        "    Display \"Ingrese tu zipcode\"\n",
        "    input zipcode\n",
        "    Display \"Ingrese tu numero de phone\"\n",
        "    input numero de phone\n",
        "    Display \"Ingrese tu carrera universitaria\"\n",
        "    input carrera universitaria\n",
        "\n",
        "    display \"nombre\" nombre\n",
        "    display \"direccion\" direccion\n",
        "    display \"ciudad\" ciudad\n",
        "    display \"estado\" estado\n",
        "    display \"zipcode\" zipcode\n",
        "    display \"numero de phone\" numero de phone\n",
        "    display \"carrera universitaria\" carrera universitaria\n",
        "\n",
        "    end"
      ],
      "metadata": {
        "id": "bJ6pLbtMZk_8"
      }
    }
  ]
}